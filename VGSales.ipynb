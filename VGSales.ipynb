{
  "nbformat": 4,
  "nbformat_minor": 0,
  "metadata": {
    "colab": {
      "provenance": [],
      "collapsed_sections": []
    },
    "kernelspec": {
      "name": "python3",
      "display_name": "Python 3"
    },
    "language_info": {
      "name": "python"
    }
  },
  "cells": [
    {
      "cell_type": "code",
      "execution_count": null,
      "metadata": {
        "id": "2HHdBON41np-"
      },
      "outputs": [],
      "source": [
        "import pandas as pd\n",
        "import matplotlib\n",
        "import numpy as np\n",
        "import matplotlib.pyplot as plt"
      ]
    },
    {
      "cell_type": "code",
      "source": [
        "# Abre um arquivo csv, separa as colunas por vírgula(,)\n",
        "df = pd.read_csv('vgsales.csv', sep=',')"
      ],
      "metadata": {
        "id": "oxrUQma12CYD"
      },
      "execution_count": null,
      "outputs": []
    },
    {
      "cell_type": "code",
      "source": [
        "# Verifica se existem valores nulos no dataframe\n",
        "df.isnull().values.any()"
      ],
      "metadata": {
        "colab": {
          "base_uri": "https://localhost:8080/"
        },
        "id": "AgjkFWdAZl6V",
        "outputId": "62b7b4aa-a439-4c1b-d01e-106f4446cea8"
      },
      "execution_count": null,
      "outputs": [
        {
          "output_type": "execute_result",
          "data": {
            "text/plain": [
              "True"
            ]
          },
          "metadata": {},
          "execution_count": 32
        }
      ]
    },
    {
      "cell_type": "code",
      "source": [
        "display(df.sort_values(by=['Year'], ascending = True).head())"
      ],
      "metadata": {
        "id": "B-5afBYJh-SF"
      },
      "execution_count": null,
      "outputs": []
    },
    {
      "cell_type": "code",
      "source": [
        "# Preenche todos os campos vazio com 0, assim pode usar o astype(int) para converter toda a coluna.\n",
        "df = df.fillna(0)\n",
        "\n",
        "# Exclui as seguintes colunas, axis=1 é coluna, axis=0 é linha.\n",
        "df = df.drop('Rank'       , axis=1)\n",
        "df = df.drop('NA_Sales'   , axis=1)\n",
        "df = df.drop('EU_Sales'   , axis=1)\n",
        "df = df.drop('JP_Sales'   , axis=1)\n",
        "df = df.drop('Other_Sales', axis=1)\n",
        "\n",
        "# Exclui todos os registros onde as Vendas globais são inferiores a 0.99\n",
        "# inplace = True -> Todos os registros deletados vão subir na dataframe e não criarão um espaço vazio nos registros\n",
        "df.drop(df[df['Global_Sales'] <= 0.99].index, inplace = True)\n",
        "# Arredonda os valores e os converte em inteiro.\n",
        "df['Global_Sales'] = df['Global_Sales'].round(0).astype(int)\n",
        "# Converte a coluna 'Year' em inteiro\n",
        "df['Year'] = df['Year'].astype(int)\n",
        "# Apaga os Anos zerados\n",
        "df.drop(df[df['Year'] == 0].index, inplace = True)"
      ],
      "metadata": {
        "id": "WX339iIj4u1w"
      },
      "execution_count": null,
      "outputs": []
    },
    {
      "cell_type": "code",
      "source": [
        "# Cria um grupo de Plataformas / Publisher / Genre e soma com as Vendas globais-> \n",
        "platformCount  = df[['Platform' , 'Global_Sales']].groupby('Platform').sum()\n",
        "publisherCount = df[['Publisher', 'Global_Sales']].groupby('Publisher').sum()\n",
        "genreCount     = df[['Genre'    , 'Global_Sales']].groupby('Genre').sum()\n",
        "yearCount      = df[['Year'     , 'Global_Sales']].groupby('Year').sum()"
      ],
      "metadata": {
        "id": "Bpq3d8MDdUop"
      },
      "execution_count": null,
      "outputs": []
    },
    {
      "cell_type": "code",
      "source": [
        "display(platformCount.sort_values(by=['Global_Sales'], ascending=False).head())\n",
        "plt.plot(platformCount.sort_values(by=['Global_Sales'], ascending=False).head())\n",
        "plt.show()"
      ],
      "metadata": {
        "id": "3aSWE1dq4Tr3"
      },
      "execution_count": null,
      "outputs": []
    },
    {
      "cell_type": "code",
      "source": [
        "display(publisherCount.sort_values(by=['Global_Sales'], ascending=False).head())\n",
        "plt.figure(figsize=(12,4))\n",
        "plt.plot(publisherCount.sort_values(by=['Global_Sales'], ascending=False).head())\n",
        "plt.show()"
      ],
      "metadata": {
        "id": "Fu9M8LXz7CJ2"
      },
      "execution_count": null,
      "outputs": []
    },
    {
      "cell_type": "code",
      "source": [
        "display(genreCount.sort_values(by=['Global_Sales'], ascending=False).head())\n",
        "plt.plot(genreCount.sort_values(by=['Global_Sales'], ascending=False).head())\n",
        "plt.show()"
      ],
      "metadata": {
        "id": "QPA34UBf6zVA"
      },
      "execution_count": null,
      "outputs": []
    },
    {
      "cell_type": "code",
      "source": [
        "display(yearCount.sort_values(by=['Global_Sales'], ascending=False).head())\n",
        "plt.plot(yearCount)\n",
        "plt.show()"
      ],
      "metadata": {
        "id": "Qrxen9kx0M5c"
      },
      "execution_count": null,
      "outputs": []
    },
    {
      "cell_type": "code",
      "source": [
        "# Objetivo: Mostrar quais foram os anos das maiores vendas globais de cada gênero.\n",
        "\n",
        "# Cria um grupo entre 'Genêro' e 'Ano', e soma todas as 'Vendas_Globais' que correspondem.\n",
        "# Ex.: Sem a função sum() o grupo iria considerar apenas o maior valor das 'Vendas_Globais'.\n",
        "genreYear = df.groupby(['Genre', 'Year']).sum()\n",
        "\n",
        "# Aqui é definido na função nlargest() quantos registros aparecem por agrupamento.\n",
        "genreYear = genreYear.groupby(['Genre'])['Global_Sales'].nlargest(2).to_frame()\n",
        "\n",
        "# Nesse momento temos 3 colunas do tipo INDEX: 'Genre', 'Genre' e 'Year', precisamos \n",
        "# remover a coluna duplicada e tirar o atributo INDEX delas, pois usaremos o index padrão do pandas.\n",
        "# função reset_index é excelente para transformar colunas do tipo INDEX, e duplicadas.\n",
        "genreYear = genreYear.reset_index(level=[0 ,'Year']).drop('Genre', axis=1).reset_index(level=[0])\n",
        "\n",
        "display(genreYear.sort_values(by=['Global_Sales'], ascending=False))"
      ],
      "metadata": {
        "id": "yIxJ9NLIIGE5"
      },
      "execution_count": null,
      "outputs": []
    },
    {
      "cell_type": "code",
      "source": [
        "# Objetivo: Mostrar quais foram os anos das maiores vendas globais de cada gênero.\n",
        "\n",
        "platformYear = df.groupby(['Platform', 'Year']).sum()\n",
        "platformYear = platformYear.groupby(['Platform'])['Global_Sales'].nlargest(2).to_frame()\n",
        "platformYear = platformYear.reset_index(level=[0 ,'Year']).drop('Platform', axis=1).reset_index(level=[0])\n",
        "\n",
        "display(platformYear.sort_values(by=['Global_Sales'], ascending=False))"
      ],
      "metadata": {
        "id": "J9GTl4CmpCNY"
      },
      "execution_count": null,
      "outputs": []
    },
    {
      "cell_type": "code",
      "source": [
        "# Objetivo: Mostrar quais foram os anos das maiores vendas globais de cada gênero.\n",
        "\n",
        "publisherYear = df.groupby(['Publisher', 'Year']).sum()\n",
        "publisherYear = publisherYear.groupby(['Publisher'])['Global_Sales'].nlargest(2).to_frame()\n",
        "publisherYear = publisherYear.reset_index(level=[0 ,'Year']).drop('Publisher', axis=1).reset_index(level=[0])\n",
        "\n",
        "display(publisherYear.sort_values(by=['Global_Sales'], ascending=False))"
      ],
      "metadata": {
        "id": "CniYXNvEpXrA"
      },
      "execution_count": null,
      "outputs": []
    },
    {
      "cell_type": "code",
      "source": [
        "# Objetivo: Mostrar quais foram os anos das maiores vendas globais de cada gênero.\n",
        "\n",
        "gamePlatform = df.groupby(['Name', 'Year']).sum()\n",
        "gamePlatform = gamePlatform.groupby(['Name'])['Global_Sales'].nlargest(2).to_frame()\n",
        "gamePlatform = gamePlatform.reset_index(level=[0 ,'Year']).drop('Name', axis=1).reset_index(level=[0])\n",
        "gamePlatform = df.groupby(['Name'])['Global_Sales'].sum().to_frame()\n",
        "display(gamePlatform.sort_values(by=['Global_Sales'], ascending=False).reset_index(level=[0]))"
      ],
      "metadata": {
        "id": "jM4bC0cgrmJn"
      },
      "execution_count": null,
      "outputs": []
    }
  ]
}